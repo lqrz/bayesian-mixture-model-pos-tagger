{
 "cells": [
  {
   "cell_type": "markdown",
   "id": "c1f5bf29-d4a0-4bb8-8678-ba18afe8ba13",
   "metadata": {},
   "source": [
    "# Imports"
   ]
  },
  {
   "cell_type": "code",
   "execution_count": 1,
   "id": "1a77b825-f7fc-4e3f-b91e-4c534289e3e9",
   "metadata": {},
   "outputs": [],
   "source": [
    "from IPython.core.interactiveshell import InteractiveShell\n",
    "InteractiveShell.ast_node_interactivity = \"all\"\n",
    "\n",
    "# display logging.info\n",
    "import logging\n",
    "logging.basicConfig(level=logging.INFO, force=True)"
   ]
  },
  {
   "cell_type": "code",
   "execution_count": 2,
   "id": "090bbc78-f634-4e1c-aa0c-3e28bd18f776",
   "metadata": {},
   "outputs": [],
   "source": [
    "from lqrz.bayesian_mixture_model_pos_tagger.train.trainer import Trainer"
   ]
  },
  {
   "cell_type": "markdown",
   "id": "4c489a7b-88d7-4501-8431-bf2434dd6ec5",
   "metadata": {},
   "source": [
    "# Run"
   ]
  },
  {
   "cell_type": "code",
   "execution_count": null,
   "id": "b7162ccc-d891-4d52-85d9-e8989cd6ba0f",
   "metadata": {},
   "outputs": [
    {
     "name": "stderr",
     "output_type": "stream",
     "text": [
      "INFO:root:Running preprocessor. Saving outputs in: ./outputs/preprocessor\n",
      "INFO:root:Running sampler for 10_300_0.1_0.5_0.5_100_5. Saving outputs in: ./outputs/train/10_300_0.1_0.5_0.5_100_5\n",
      "INFO:root:Iteration: 0 log_prob: -3803298.29\n",
      "INFO:root:Iteration: 1 log_prob: -3750367.76\n",
      "INFO:root:Iteration: 2 log_prob: -3728688.94\n"
     ]
    }
   ],
   "source": [
    "path_input_data: str = '../data/raw/*.txt'\n",
    "path_output: str = './outputs'\n",
    "alphas = [.1, .5, 1., 2.]\n",
    "betas_left = [.5] * len(alphas)\n",
    "betas_right = [.5] * len(alphas)\n",
    "n_classes = [10] * len(alphas)\n",
    "n_iterations = [300] * len(alphas)\n",
    "ns_burn_in = [100] * len(alphas)\n",
    "ns_thinning = [5] * len(alphas)\n",
    "\n",
    "_ = Trainer.run(path_input_data=path_input_data,\n",
    "            path_output=path_output,\n",
    "            n_classes=n_classes,\n",
    "            n_iterations=n_iterations,\n",
    "            alphas=alphas,\n",
    "            betas_left=betas_left,\n",
    "            betas_right=betas_right,\n",
    "            ns_burn_in=ns_burn_in,\n",
    "            ns_thinning=ns_thinning,\n",
    "           )\n",
    "        "
   ]
  },
  {
   "cell_type": "code",
   "execution_count": null,
   "id": "e2b82760-181c-4cd7-8e44-77af7a15a1e1",
   "metadata": {},
   "outputs": [],
   "source": []
  }
 ],
 "metadata": {
  "environment": {
   "kernel": "conda-base-bayesian_pos_tagger",
   "name": "workbench-notebooks.m134",
   "type": "gcloud",
   "uri": "us-docker.pkg.dev/deeplearning-platform-release/gcr.io/workbench-notebooks:m134"
  },
  "kernelspec": {
   "display_name": "bayesian_pos_tagger",
   "language": "python",
   "name": "conda-base-bayesian_pos_tagger"
  },
  "language_info": {
   "codemirror_mode": {
    "name": "ipython",
    "version": 3
   },
   "file_extension": ".py",
   "mimetype": "text/x-python",
   "name": "python",
   "nbconvert_exporter": "python",
   "pygments_lexer": "ipython3",
   "version": "3.10.19"
  }
 },
 "nbformat": 4,
 "nbformat_minor": 5
}
