{
 "cells": [
  {
   "cell_type": "markdown",
   "id": "8cfccf12-95f4-432e-976a-5f491afc1c19",
   "metadata": {},
   "source": [
    "# Load artifacts"
   ]
  },
  {
   "cell_type": "code",
   "execution_count": null,
   "id": "64c42e3c-cbee-49f6-b8f9-dbab59b405c3",
   "metadata": {},
   "outputs": [],
   "source": [
    "import joblib\n",
    "\n",
    "path_output_preprocessor = 'outputs/preprocessor'\n",
    "path_output_train = 'outputs/train'\n",
    "\n",
    "counter = joblib.load(f'{path_output_preprocessor}/counter.joblib')\n",
    "sampler = joblib.load(f'{path_output_train}/sampler.joblib')\n",
    "wordtype_index = joblib.load(f'{path_output_preprocessor}/wordtype_to_ix.joblib')"
   ]
  },
  {
   "cell_type": "markdown",
   "id": "4dfbcc98-3e8a-41b7-8c6f-746129060380",
   "metadata": {},
   "source": [
    "# Plot"
   ]
  },
  {
   "cell_type": "code",
   "execution_count": null,
   "id": "86143075-b98d-4159-98df-3b83f85033f7",
   "metadata": {},
   "outputs": [],
   "source": [
    "from lqrz.bayesian_mixture_model_pos_tagger.plot.plot import *"
   ]
  },
  {
   "cell_type": "code",
   "execution_count": null,
   "id": "16f768a2-6df1-4f51-b3ec-c672d4d46ebd",
   "metadata": {},
   "outputs": [],
   "source": [
    "plot_log_joint_trace(log_probs_trace=sampler._log_probs_trace)"
   ]
  },
  {
   "cell_type": "code",
   "execution_count": null,
   "id": "2fd7aaf4-8cef-4cfe-bdab-a011d6776a13",
   "metadata": {},
   "outputs": [],
   "source": [
    "plot_class_counts_trace(class_counts_trace=sampler._class_counts_trace)"
   ]
  },
  {
   "cell_type": "code",
   "execution_count": null,
   "id": "a90ddc80-4cfb-4605-85df-7bd3e7366f4e",
   "metadata": {},
   "outputs": [],
   "source": [
    "plot_word_type_posterior_by_frequency(sampler=sampler, wordtype_index=wordtype_index, counter=counter)"
   ]
  },
  {
   "cell_type": "code",
   "execution_count": null,
   "id": "84949c58-0421-4642-93cb-b65ed890b783",
   "metadata": {
    "scrolled": true
   },
   "outputs": [],
   "source": [
    "sorted(sampler.compute_word_type_posterior_entropy()) # (n_wordtypes,)"
   ]
  },
  {
   "cell_type": "code",
   "execution_count": null,
   "id": "01098d61-05a0-4c23-aa70-85d041cb1b2e",
   "metadata": {},
   "outputs": [],
   "source": []
  }
 ],
 "metadata": {
  "kernelspec": {
   "display_name": "Python 3 (ipykernel)",
   "language": "python",
   "name": "python3"
  },
  "language_info": {
   "codemirror_mode": {
    "name": "ipython",
    "version": 3
   },
   "file_extension": ".py",
   "mimetype": "text/x-python",
   "name": "python",
   "nbconvert_exporter": "python",
   "pygments_lexer": "ipython3",
   "version": "3.10.16"
  }
 },
 "nbformat": 4,
 "nbformat_minor": 5
}
