{
 "cells": [
  {
   "cell_type": "code",
   "execution_count": 1,
   "id": "a6c84217-9d8a-465a-a5c4-f0eb5e9c1aac",
   "metadata": {},
   "outputs": [],
   "source": [
    "from IPython.core.interactiveshell import InteractiveShell\n",
    "InteractiveShell.ast_node_interactivity = \"all\"\n",
    "\n",
    "# display logging.info\n",
    "import logging\n",
    "logging.basicConfig(level=logging.INFO, force=True)"
   ]
  },
  {
   "cell_type": "markdown",
   "id": "eb6dcd52-cc54-4119-a4eb-99e9c5ca6e3a",
   "metadata": {},
   "source": [
    "# Preprocessor"
   ]
  },
  {
   "cell_type": "code",
   "execution_count": 2,
   "id": "df4fa8fc-1ebb-4330-a95b-a7ee32e262ef",
   "metadata": {},
   "outputs": [],
   "source": [
    "from lqrz.bayesian_mixture_model_pos_tagger.get_data.preprocessor import Preprocessor"
   ]
  },
  {
   "cell_type": "code",
   "execution_count": 3,
   "id": "390a6858-6676-4d62-9280-6abcfd0d71c0",
   "metadata": {},
   "outputs": [],
   "source": [
    "file_path: str = '../../data/raw/*.txt'\n",
    "preprocessor = Preprocessor()\n",
    "preprocessor.preprocess(file_path=file_path)"
   ]
  },
  {
   "cell_type": "code",
   "execution_count": 4,
   "id": "040b34b2-6187-4248-9de9-2a31e6d54a54",
   "metadata": {},
   "outputs": [],
   "source": [
    "path_output_preprocessor: str = 'outputs/preprocessor'\n",
    "preprocessor.save_outputs(output_path=path_output_preprocessor)"
   ]
  },
  {
   "cell_type": "markdown",
   "id": "78465e68-ee63-4380-9875-3151158d6695",
   "metadata": {},
   "source": [
    "# Trainer"
   ]
  },
  {
   "cell_type": "code",
   "execution_count": 5,
   "id": "e23f8ea8-8af5-4e6d-b66f-53cf3bd76d39",
   "metadata": {},
   "outputs": [],
   "source": [
    "from lqrz.bayesian_mixture_model_pos_tagger.train.gibbs_sampler import GibbsSampler\n",
    "import joblib"
   ]
  },
  {
   "cell_type": "markdown",
   "id": "d875783d-78d1-474a-86aa-303fe7d9acff",
   "metadata": {},
   "source": [
    "## Instantiate"
   ]
  },
  {
   "cell_type": "code",
   "execution_count": 6,
   "id": "0a709f01-e3cd-4a6f-9e53-68bef43603ef",
   "metadata": {},
   "outputs": [
    {
     "data": {
      "text/plain": [
       "<lqrz.bayesian_mixture_model_pos_tagger.train.gibbs_sampler.GibbsSampler at 0x103c6f340>"
      ]
     },
     "execution_count": 6,
     "metadata": {},
     "output_type": "execute_result"
    }
   ],
   "source": [
    "path_wordtype_counts_left = f'{path_output_preprocessor}/x_wordtype_counts_left.joblib'\n",
    "path_wordtype_counts_right = f'{path_output_preprocessor}/x_wordtype_counts_right.joblib'\n",
    "n_classes = 10\n",
    "\n",
    "sampler = GibbsSampler.instantiate(\n",
    "    path_wordtype_counts_left=path_wordtype_counts_left,\n",
    "    path_wordtype_counts_right=path_wordtype_counts_right,\n",
    "    n_classes=n_classes,\n",
    ")\n",
    "\n",
    "sampler"
   ]
  },
  {
   "cell_type": "markdown",
   "id": "2623f23a-1438-442d-ba44-bb73ea4f3940",
   "metadata": {},
   "source": [
    "## Run"
   ]
  },
  {
   "cell_type": "code",
   "execution_count": 7,
   "id": "ae9f960b-1348-4c0e-b219-30f188349632",
   "metadata": {},
   "outputs": [
    {
     "name": "stderr",
     "output_type": "stream",
     "text": [
      "INFO:root:Iteration: 0 log_prob: -3813529.59\n",
      "INFO:root:Iteration: 1 log_prob: -3759045.23\n",
      "INFO:root:Iteration: 2 log_prob: -3740906.53\n"
     ]
    }
   ],
   "source": [
    "n_iterations = 3\n",
    "n_burn_in = 1\n",
    "n_thinning = 1\n",
    "alpha = .1\n",
    "beta_left, beta_right = .5, .5\n",
    "\n",
    "_ = sampler.run(\n",
    "    n_iterations=n_iterations,\n",
    "    alpha=alpha,\n",
    "    beta_left=beta_left,\n",
    "    beta_right=beta_right,\n",
    "    n_burn_in=n_burn_in,\n",
    "    n_thinning=n_thinning,\n",
    ")"
   ]
  },
  {
   "cell_type": "code",
   "execution_count": 11,
   "id": "f800fbb2-b7f0-48ce-8321-9e47e3ccdd45",
   "metadata": {},
   "outputs": [
    {
     "data": {
      "text/plain": [
       "array([2.48679190e-10, 2.48679190e-10, 2.48679190e-10, ...,\n",
       "       6.93147181e-01, 6.93147181e-01, 6.93147181e-01])"
      ]
     },
     "execution_count": 11,
     "metadata": {},
     "output_type": "execute_result"
    }
   ],
   "source": [
    "sampler.compute_word_type_posterior_entropy() # (n_wordtypes,)"
   ]
  },
  {
   "cell_type": "code",
   "execution_count": 8,
   "id": "608b45d4-d8b2-4943-b918-f929c1dda6d6",
   "metadata": {},
   "outputs": [],
   "source": [
    "path_output_train: str = 'outputs/train'\n",
    "_ = sampler.save_outputs(output_path=path_output_train)"
   ]
  },
  {
   "cell_type": "code",
   "execution_count": null,
   "id": "e7b08d84-d34d-4f13-a1d8-409fe6ebe7d6",
   "metadata": {},
   "outputs": [],
   "source": []
  }
 ],
 "metadata": {
  "kernelspec": {
   "display_name": "Python 3 (ipykernel)",
   "language": "python",
   "name": "python3"
  },
  "language_info": {
   "codemirror_mode": {
    "name": "ipython",
    "version": 3
   },
   "file_extension": ".py",
   "mimetype": "text/x-python",
   "name": "python",
   "nbconvert_exporter": "python",
   "pygments_lexer": "ipython3",
   "version": "3.10.16"
  }
 },
 "nbformat": 4,
 "nbformat_minor": 5
}
