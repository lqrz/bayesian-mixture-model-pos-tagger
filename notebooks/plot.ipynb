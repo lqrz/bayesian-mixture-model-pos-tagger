{
 "cells": [
  {
   "cell_type": "markdown",
   "id": "c088917a-363b-4a24-bef4-e8bce95f7b2e",
   "metadata": {},
   "source": [
    "# Imports"
   ]
  },
  {
   "cell_type": "code",
   "execution_count": null,
   "id": "c5aa6d92-eff9-4bb0-bbf8-ef89195f15f4",
   "metadata": {},
   "outputs": [],
   "source": [
    "import joblib\n",
    "import pandas as pd\n",
    "import numpy as np\n",
    "import matplotlib.pyplot as plt\n",
    "import seaborn as sns\n",
    "from typing import List, Tuple, Dict\n",
    "\n",
    "_ = sns.set_style('whitegrid')"
   ]
  },
  {
   "cell_type": "markdown",
   "id": "b3847ffb-2c64-442a-8b27-d2fe5475d40f",
   "metadata": {},
   "source": [
    "# Functions"
   ]
  },
  {
   "cell_type": "code",
   "execution_count": null,
   "id": "5d094084-f26e-41e3-ae08-5e3fa0b9ca47",
   "metadata": {},
   "outputs": [],
   "source": [
    "def plot_log_joint_trace(log_probs_trace: List[float], figsize: Tuple[int, int]=(4, 3)) -> None:\n",
    "    \"\"\"Plot log-joint trace.\"\"\"\n",
    "    df_plot = pd.DataFrame({\n",
    "        \"iteration\": np.arange(len(log_probs_trace)),\n",
    "        \"log_prob\": log_probs_trace\n",
    "    })\n",
    "    f, ax = plt.subplots(1, 1, figsize=(4, 3))\n",
    "    _ = sns.lineplot(data=df_plot, x=\"iteration\", y=\"log_prob\", color=\"C0\", ax=ax)\n",
    "    _ = ax.set_xlabel(\"Iteration\")\n",
    "    _ = ax.set_ylabel(\"Collapsed log joint\")\n",
    "    _ = ax.set_title(\"Log-joint trace (convergence check)\")\n",
    "\n",
    "\n",
    "def plot_class_counts_trace(class_counts_trace: List[np.ndarray], figsize: Tuple[int, int]=(4, 3)) -> None:\n",
    "    \"\"\"Plot class count trace.\"\"\"\n",
    "    x_class_counts_trace = np.stack(class_counts_trace, axis=0)  # shape (T, n_classes)\n",
    "        \n",
    "    df_plot = (\n",
    "        pd.DataFrame(x_class_counts_trace, columns=[f\"class_{z}\" for z in range(x_class_counts_trace.shape[1])])\n",
    "        .assign(iteration=np.arange(len(x_class_counts_trace)))\n",
    "        .melt(id_vars=\"iteration\", var_name=\"class\", value_name=\"count\")\n",
    "    )\n",
    "    f, ax = plt.subplots(1, 1, figsize=figsize)\n",
    "    _ = sns.lineplot(data=df_plot, x=\"iteration\", y=\"count\", hue=\"class\", palette=\"husl\", linewidth=1, ax=ax)\n",
    "    _ = ax.set_xlabel(\"Iteration\")\n",
    "    _ = ax.set_ylabel(\"Cnt word types in class\")\n",
    "    _ = ax.set_title(\"Class size trace\")\n",
    "\n",
    "    \n",
    "def plot_word_type_posterior(\n",
    "    sampler: GibbsSampler,\n",
    "    samples: List[np.ndarray],\n",
    "    word: str,\n",
    "    wordtype_to_ix: Dict[str, int],\n",
    "    n_classes: int,\n",
    "    ax: plt.Axes,\n",
    "    title: str,\n",
    "    figsize: Tuple[int, int]=(4, 3)\n",
    "    ) -> None:\n",
    "    \"\"\"Plot word type posterior probabilities.\"\"\"\n",
    "    posterior_probs: np.ndarray = sampler.compute_posterior_class_probs(samples, wordtype_to_ix[word])\n",
    "    \n",
    "    df_plot = pd.DataFrame({\n",
    "        \"class\": np.arange(n_classes),\n",
    "        \"probability\": posterior_probs\n",
    "    \n",
    "    })\n",
    "\n",
    "    if ax is None: f, ax = plt.subplots(1, 1, figsize=figsize)\n",
    "    _ = sns.barplot(data=df_plot, x=\"class\", y=\"probability\", ax=ax)\n",
    "    title: str = f\"Posterior class probabilities for word '{ix_to_wordtype[word_ix]}'\" if title is None else title\n",
    "    _ = ax.set_title(title)\n",
    "    _ = ax.set_xlabel(\"\")\n",
    "    _ = ax.set_ylabel(\"\")"
   ]
  },
  {
   "cell_type": "markdown",
   "id": "9e05995e-a479-4c42-b103-8bb05a0eb90f",
   "metadata": {},
   "source": [
    "# Load artifacts"
   ]
  },
  {
   "cell_type": "code",
   "execution_count": null,
   "id": "f3548473-9a04-4348-a2fb-1168f30e60d2",
   "metadata": {},
   "outputs": [],
   "source": [
    "alpha, beta_left, beta_right = .1, .5, .5\n",
    "\n",
    "path_input_preprocess = f'outputs/preprocess'\n",
    "path_input_train = f'outputs/train/alpha={alpha}_beta_left={beta_left}_beta_right={beta_right}'\n",
    "\n",
    "log_probs_trace = joblib.load(f'{path_input_train}/log_probs_trace.joblib')\n",
    "class_counts_trace = joblib.load(f'{path_input_train}/class_counts_trace.joblib')\n",
    "samples = joblib.load(f'{path_input_train}/samples.joblib')\n",
    "x_word_type_posterior_probs = joblib.load(f'{path_input_train}/x_word_type_posterior_probs.joblib')\n",
    "counter = joblib.load(f'{path_input_preprocess}/counter.joblib')\n",
    "wordtype_to_ix = joblib.load(f'{path_input_preprocess}/wordtype_to_ix.joblib')\n",
    "ix_to_wordtype = joblib.load(f'{path_input_preprocess}/ix_to_wordtype.joblib')\n",
    "# sampler = joblib.load(f'{path_input_train}/sampler.joblib')"
   ]
  },
  {
   "cell_type": "markdown",
   "id": "a486dabb-7747-4715-82f7-33ab173db83d",
   "metadata": {},
   "source": [
    "# Plot"
   ]
  },
  {
   "cell_type": "code",
   "execution_count": null,
   "id": "910999b8-9507-48d2-914e-854d68445658",
   "metadata": {},
   "outputs": [],
   "source": [
    "plot_log_joint_trace(log_probs_trace=log_probs_trace)\n",
    "plot_class_counts_trace(class_counts_trace=class_counts_trace)"
   ]
  },
  {
   "cell_type": "code",
   "execution_count": null,
   "id": "ae43482b-7e5b-40ff-aca6-584e2d566843",
   "metadata": {},
   "outputs": [],
   "source": [
    "# n_most_common = 10\n",
    "\n",
    "# words: List[str] = [x for x, _ in counter.most_common(n_most_common)]\n",
    "# f, axs = plt.subplots(1, n_most_common, figsize=(13, 2), sharex=True, sharey=True)\n",
    "# for w, ax in zip(words, axs):\n",
    "#     _ = plot_word_type_posterior(samples=samples, word=w, wordtype_to_ix=wordtype_to_ix, n_classes=class_counts_trace[0].__len__(), ax=ax, title=w)\n",
    "#     _ = plt.ylim(0, 1)\n",
    "\n",
    "\n",
    "# words: List[str] = [x for x, _ in counter.most_common()[::-1][:n_most_common]]\n",
    "# f, axs = plt.subplots(1, n_most_common, figsize=(13, 2), sharex=True, sharey=True)\n",
    "# for w, ax in zip(words, axs):\n",
    "#     _ = plot_word_type_posterior(samples=samples, word=w, wordtype_to_ix=wordtype_to_ix, n_classes=class_counts_trace[0].__len__(), ax=ax, title=w)\n",
    "#     _ = plt.ylim(0, 1)"
   ]
  },
  {
   "cell_type": "code",
   "execution_count": null,
   "id": "81969536-76c0-46d9-a1e3-c4022b49e4ae",
   "metadata": {},
   "outputs": [],
   "source": []
  }
 ],
 "metadata": {
  "environment": {
   "kernel": "conda-base-bayesian_pos_tagger",
   "name": "workbench-notebooks.m134",
   "type": "gcloud",
   "uri": "us-docker.pkg.dev/deeplearning-platform-release/gcr.io/workbench-notebooks:m134"
  },
  "kernelspec": {
   "display_name": "Python 3 (ipykernel)",
   "language": "python",
   "name": "python3"
  },
  "language_info": {
   "codemirror_mode": {
    "name": "ipython",
    "version": 3
   },
   "file_extension": ".py",
   "mimetype": "text/x-python",
   "name": "python",
   "nbconvert_exporter": "python",
   "pygments_lexer": "ipython3",
   "version": "3.10.16"
  }
 },
 "nbformat": 4,
 "nbformat_minor": 5
}
